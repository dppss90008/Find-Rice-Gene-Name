{
 "cells": [
  {
   "cell_type": "markdown",
   "metadata": {},
   "source": [
    "Find Rice Gene Name V2"
   ]
  },
  {
   "cell_type": "code",
   "execution_count": 1,
   "metadata": {
    "collapsed": true
   },
   "outputs": [],
   "source": [
    "# namecheck : Check your input is MSU-ID or RAP-DB number  \n",
    "def namecheck(name):\n",
    "      if 'LOC_Os' in name :\n",
    "            return 1\n",
    "      elif 'g' in name :\n",
    "            return 0\n",
    "      else :\n",
    "            return 2\n",
    "\n",
    "# Copy to the chipBoard\n",
    "import os\n",
    "def addToClipBoard(text):\n",
    "    command = 'echo ' + text.strip() + '| clip'\n",
    "    os.system(command)\n",
    "\n",
    "# Open file and return a list\n",
    "def OpenFile(filename):\n",
    "    with open(filename,'r') as file:\n",
    "        Lst = file.readlines()\n",
    "    for i in range(len(Lst)):\n",
    "        Lst[i] = Lst[i].strip()\n",
    "        Lst[i] = Lst[i].split('\\t')\n",
    "\n",
    "    return Lst\n",
    "\n",
    "# Open data and store as list \n",
    "# RAP_MSU list\n",
    "RM_lst = OpenFile(\"RAP_MSU.txt\")\n",
    "# RAP_Name list\n",
    "RN_lst = OpenFile(\"RAP_name.txt\")\n",
    "# RAP_Transcrip evidence \n",
    "RT_lst = OpenFile(\"RAP_Transcript.txt\")"
   ]
  },
  {
   "cell_type": "markdown",
   "metadata": {},
   "source": [
    "Search MSU, Transcript evidence and Gene name"
   ]
  },
  {
   "cell_type": "code",
   "execution_count": 2,
   "metadata": {
    "collapsed": true
   },
   "outputs": [],
   "source": [
    "def Findinlst(RAPID,Lst):\n",
    "    Lstnew =[]\n",
    "    for i in range(len(Lst)):\n",
    "        if Lst[i][0] == RAPID:\n",
    "            Lstnew.append(Lst[i][1])\n",
    "    return \",\".join(Lstnew)\n",
    "def quickFindinlst(RAPID):\n",
    "    Lst = ['RAP','MSU','Transcript','Name']\n",
    "    Lst[0] = RAPID    \n",
    "    Lst[1] = Findinlst(RAPID,RM_lst)\n",
    "    Lst[2] = Findinlst(RAPID,RT_lst)\n",
    "    Lst[3] = Findinlst(RAPID,RN_lst)\n",
    "    return Lst"
   ]
  },
  {
   "cell_type": "markdown",
   "metadata": {},
   "source": [
    "You can unput MSU-ID、RAPDB number、transcript evidence"
   ]
  },
  {
   "cell_type": "code",
   "execution_count": 3,
   "metadata": {},
   "outputs": [],
   "source": [
    "def Result(ID):\n",
    "    ResultLst = ['RAP','MSU','Transcript','Name']\n",
    "    check = namecheck(ID)\n",
    "    if check == 0:\n",
    "        # Your input is RAPDB-number\n",
    "         ResultLst = quickFindinlst(ID)\n",
    "    elif check == 1:\n",
    "        # Your input is MSU-ID, Exchange to RAP number\n",
    "        # Exchange it to RAP-DB number\n",
    "        for i in range(len(RM_lst)):\n",
    "            if RM_lst[i][1] == ID:\n",
    "                ID = RM_lst[i][0]\n",
    "        ResultLst = quickFindinlst(ID)\n",
    "    else:\n",
    "        # Your input is Transctipt Evidence\n",
    "        # Exchange it to RAP-DB number\n",
    "        for i in range(len(RT_lst)):\n",
    "            if RT_lst[i][1] == ID:\n",
    "                ID = RT_lst[i][0]\n",
    "        ResultLst = quickFindinlst(ID)\n",
    "       \n",
    "    return ResultLst"
   ]
  },
  {
   "cell_type": "code",
   "execution_count": null,
   "metadata": {},
   "outputs": [
    {
     "name": "stdout",
     "output_type": "stream",
     "text": [
      "===============================\n",
      "Rice name converter V2\n",
      "1. You can input MSU id, RAP id and Accession number\n",
      "2. The program will convert your input.\n",
      "===============================\n"
     ]
    }
   ],
   "source": [
    "print('===============================')\n",
    "print('Rice name converter V2')\n",
    "print('1. You can input MSU id, RAP id and Accession number')\n",
    "print('2. The program will convert your input.')\n",
    "print('===============================')\n",
    "name = input('Please input gene: ')\n",
    "output = Result(name)\n",
    "print('RAP_ID:'+ output[0])\n",
    "print('MSU_ID:'+ output[1])\n",
    "print('Accession number:'+ output[2])\n",
    "print('Gene_name:'+ output[3])"
   ]
  },
  {
   "cell_type": "code",
   "execution_count": null,
   "metadata": {
    "collapsed": true
   },
   "outputs": [],
   "source": []
  }
 ],
 "metadata": {
  "kernelspec": {
   "display_name": "Python 3",
   "language": "python",
   "name": "python3"
  },
  "language_info": {
   "codemirror_mode": {
    "name": "ipython",
    "version": 3
   },
   "file_extension": ".py",
   "mimetype": "text/x-python",
   "name": "python",
   "nbconvert_exporter": "python",
   "pygments_lexer": "ipython3",
   "version": "3.6.1"
  }
 },
 "nbformat": 4,
 "nbformat_minor": 2
}
